{
 "cells": [
  {
   "cell_type": "markdown",
   "metadata": {},
   "source": [
    "# Inteligência na Web e Big Data\n",
    "\n",
    "## Rodrigo Dias Castelhano RA 21201820796\n",
    "\n",
    "### Prof Fabrício Olivetti de França \n",
    "### Prof Thiago Ferreira Covões\n",
    "\n"
   ]
  },
  {
   "cell_type": "markdown",
   "metadata": {},
   "source": [
    "# Criação de Grafos com a bilbioteca GraphX do Spark \n"
   ]
  },
  {
   "cell_type": "code",
   "execution_count": 1,
   "metadata": {},
   "outputs": [
    {
     "data": {
      "text/html": [
       "\n",
       "        <div>\n",
       "            <p><b>SparkContext</b></p>\n",
       "\n",
       "            <p><a href=\"http://192.168.56.1:4040\">Spark UI</a></p>\n",
       "\n",
       "            <dl>\n",
       "              <dt>Version</dt>\n",
       "                <dd><code>v2.2.1</code></dd>\n",
       "              <dt>Master</dt>\n",
       "                <dd><code>local[*]</code></dd>\n",
       "              <dt>AppName</dt>\n",
       "                <dd><code>PySparkShell</code></dd>\n",
       "            </dl>\n",
       "        </div>\n",
       "        "
      ],
      "text/plain": [
       "<SparkContext master=local[*] appName=PySparkShell>"
      ]
     },
     "execution_count": 1,
     "metadata": {},
     "output_type": "execute_result"
    }
   ],
   "source": [
    "from pyspark import SparkContext\n",
    "sc = SparkContext.getOrCreate()\n",
    "sc"
   ]
  },
  {
   "cell_type": "code",
   "execution_count": 2,
   "metadata": {},
   "outputs": [],
   "source": [
    "import os\n",
    "jars    = [\"jars/graphframes-0.5.0-spark2.1-s_2.11.jar\", \"jars/scala-logging-api_2.11-2.1.2.jar\", \"jars/scala-logging-slf4j_2.11-2.1.2.jar\"]\n",
    "pyfiles = [\"pyfiles/graphframes.zip\"]\n",
    "os.environ[\"PYSPARK_SUBMIT_ARGS\"] = \" --jars \"+ \",\".join(jars)  +\" --py-files \"+ \",\".join(pyfiles)  +\"  pyspark-shell\""
   ]
  },
  {
   "cell_type": "code",
   "execution_count": 3,
   "metadata": {},
   "outputs": [],
   "source": [
    "import numpy as np\n",
    "import pandas as pd\n",
    "import pyspark\n",
    "import findspark\n",
    "from IPython.core.display import HTML\n",
    "findspark.init()"
   ]
  },
  {
   "cell_type": "code",
   "execution_count": 4,
   "metadata": {},
   "outputs": [],
   "source": [
    "import json, random\n",
    "import sys\n",
    "from pyspark.sql import SparkSession\n",
    "from pyspark.sql.types import StringType, IntegerType\n",
    "from pyspark.sql.types import StructType,StructField,ArrayType"
   ]
  },
  {
   "cell_type": "code",
   "execution_count": 5,
   "metadata": {},
   "outputs": [
    {
     "name": "stdout",
     "output_type": "stream",
     "text": [
      "+----+------+\n",
      "|  id|  NAME|\n",
      "+----+------+\n",
      "|1090|Jessie|\n",
      "|1159|Melvin|\n",
      "|1436| Hosea|\n",
      "|1512| Ernst|\n",
      "|1572|Finley|\n",
      "+----+------+\n",
      "only showing top 5 rows\n",
      "\n"
     ]
    }
   ],
   "source": [
    "# Lendo a primeira base de dados referente aos usuarios e seus ids\n",
    "\n",
    "usuarios = spark.read.format(\"csv\").option(\"header\", \"true\").load(\"dataset/User.csv\").withColumnRenamed(\"ID\", \"id\")\n",
    "usuarios.show(5)        "
   ]
  },
  {
   "cell_type": "code",
   "execution_count": 6,
   "metadata": {},
   "outputs": [
    {
     "name": "stdout",
     "output_type": "stream",
     "text": [
      "+----+----+\n",
      "| src| dst|\n",
      "+----+----+\n",
      "|1090|5309|\n",
      "|1090|3547|\n",
      "|1090|5166|\n",
      "|1090|5307|\n",
      "|1159|1807|\n",
      "+----+----+\n",
      "only showing top 5 rows\n",
      "\n"
     ]
    }
   ],
   "source": [
    "# Lendo a segunda base de dados referente as conexões, temos que trocar o nome das colunas para src e dst\n",
    "\n",
    "conexoes = spark.read.format(\"csv\").option(\"header\", \"true\").load(\"dataset/UserGraph.csv\")\\\n",
    "                .withColumnRenamed(\"USER_1\", \"src\").withColumnRenamed(\"USER_2\", \"dst\")            \n",
    "conexoes.show(5)"
   ]
  },
  {
   "cell_type": "markdown",
   "metadata": {},
   "source": [
    "### Agora podemos criar o grafo a partir do Graph "
   ]
  },
  {
   "cell_type": "code",
   "execution_count": 7,
   "metadata": {},
   "outputs": [],
   "source": [
    "from graphframes import *"
   ]
  },
  {
   "cell_type": "code",
   "execution_count": 8,
   "metadata": {},
   "outputs": [
    {
     "name": "stdout",
     "output_type": "stream",
     "text": [
      "Total de vertices que são os usuários da rede : 6486\n",
      "\n",
      "Total de arestas que são as conexões: 336534\n",
      "\n"
     ]
    },
    {
     "data": {
      "text/plain": [
       "GraphFrame(v:[id: string, NAME: string], e:[src: string, dst: string])"
      ]
     },
     "execution_count": 8,
     "metadata": {},
     "output_type": "execute_result"
    }
   ],
   "source": [
    "rede = GraphFrame(usuarios, conexoes) # Carregando para o GraphFrame\n",
    "print(\"Total de vertices que são os usuários da rede : %d\" % rede.vertices.count())\n",
    "print('')\n",
    "print(\"Total de arestas que são as conexões: %d\" % rede.edges.count())\n",
    "print('')\n",
    "rede.cache()"
   ]
  },
  {
   "cell_type": "markdown",
   "metadata": {},
   "source": [
    "### Agora, por sugestão do professor Fabrício, vou aplicar o algoritmo PagerRank  que tem o objetivo de verificar a relevância de um determinado usuário da rede social. Além dele considerar o número de conexões ele considera também a qualidade (importância) destas relações.  "
   ]
  },
  {
   "cell_type": "code",
   "execution_count": 9,
   "metadata": {},
   "outputs": [],
   "source": [
    "# Levou 12 minutos para rodar o pagerRank apenas com maxIter=2\n",
    "\n",
    "results = rede.pageRank(resetProbability=0.15, maxIter=2)"
   ]
  },
  {
   "cell_type": "code",
   "execution_count": 10,
   "metadata": {},
   "outputs": [
    {
     "name": "stdout",
     "output_type": "stream",
     "text": [
      "+----+------------------+---------+\n",
      "|  id|          pagerank|     NAME|\n",
      "+----+------------------+---------+\n",
      "|5306| 33.55305599557101|     Arch|\n",
      "| 859| 30.20265372649813|   Hallie|\n",
      "|2664|24.096912979345365|     Edna|\n",
      "|6306|23.810852330210796| Napoleon|\n",
      "|5716|21.357154640932315|   Dalton|\n",
      "|3805|21.127835413682064|Arlington|\n",
      "|2557| 20.32372457710196|    Giles|\n",
      "|1602| 19.25657796189257|   Bryant|\n",
      "|2548| 18.65036287957995|     Dora|\n",
      "|5736| 18.38009944372988|    Lemon|\n",
      "+----+------------------+---------+\n",
      "only showing top 10 rows\n",
      "\n"
     ]
    }
   ],
   "source": [
    "pangerank=results.vertices.select(\"id\", \"pagerank\",\"NAME\").orderBy(\"pagerank\", ascending=False)\n",
    "pangerank.show(10)"
   ]
  },
  {
   "cell_type": "markdown",
   "metadata": {},
   "source": [
    "### O comando inDegress retorna a quantidade de conexões entre os vértices, portanto vou utilizar este comando para verificar qual o usuário com maior quantidade de conexões nesta simulação de rede social. A seguir vamos listar em ordem decrescente de conexões.\n",
    "### Podemos então comparar com o resultado obtido para o algoritmo PageRank e mostrar que o nível de relevância não depende apenas da quantidade de conexões mas sim da qualidade destas conexões."
   ]
  },
  {
   "cell_type": "code",
   "execution_count": 11,
   "metadata": {},
   "outputs": [],
   "source": [
    "def mais_amigos(rede, q):\n",
    "    '''\n",
    "    Vai retornar uma lista com quem tem mais amigos.\n",
    "    \n",
    "    '''\n",
    "    rede_indegrees = rede.inDegrees\n",
    "        \n",
    "    return rede.vertices.join(rede_indegrees, \"id\").orderBy(\"inDegree\", ascending=False).limit(q)"
   ]
  },
  {
   "cell_type": "code",
   "execution_count": 12,
   "metadata": {},
   "outputs": [
    {
     "name": "stdout",
     "output_type": "stream",
     "text": [
      "+----+---------+--------+\n",
      "|  id|     NAME|inDegree|\n",
      "+----+---------+--------+\n",
      "| 859|   Hallie|    1933|\n",
      "|5306|     Arch|    1741|\n",
      "|2664|     Edna|    1528|\n",
      "|5716|   Dalton|    1426|\n",
      "|6306| Napoleon|    1394|\n",
      "|3805|Arlington|    1386|\n",
      "|2557|    Giles|    1371|\n",
      "|4898| Gottlieb|    1345|\n",
      "|5736|    Lemon|    1289|\n",
      "| 403|    Alvah|    1280|\n",
      "+----+---------+--------+\n",
      "only showing top 10 rows\n",
      "\n"
     ]
    }
   ],
   "source": [
    "ver_amigos = mais_amigos(rede, rede.vertices.count())\n",
    "ver_amigos.show(10)"
   ]
  },
  {
   "cell_type": "markdown",
   "metadata": {},
   "source": [
    "### Agora vou criar um pequeno DataFrame com nomes de pessoas que tenham cometido suicídio. Obviamente que a pretenção é apenas ilustrar e exemplificar o uso da bibliotéca e portanto não consideramos o efeito prático desta aplicação. \n",
    "\n",
    "### Neste caso utilizo apenas o nome da vítima para fazer a busca na rede social o que pode trazer homonimos. Em uma aplicação real a busca deveria ser melhor elaborada."
   ]
  },
  {
   "cell_type": "code",
   "execution_count": 135,
   "metadata": {},
   "outputs": [
    {
     "name": "stdout",
     "output_type": "stream",
     "text": [
      "+-------+--------+\n",
      "|   NAME|Suicidio|\n",
      "+-------+--------+\n",
      "|   Linn|     sim|\n",
      "|Rodrigo|     sim|\n",
      "| Albert|     sim|\n",
      "|   Cato|     sim|\n",
      "|  Jonas|     sim|\n",
      "| Caique|     sim|\n",
      "|   Emit|     sim|\n",
      "|   João|     sim|\n",
      "|    Roy|     sim|\n",
      "| Hallie|     sim|\n",
      "+-------+--------+\n",
      "\n"
     ]
    }
   ],
   "source": [
    "suicidio = sc.parallelize([('Linn','sim'),('Rodrigo','sim'),('Albert','sim'),('Cato','sim'),('Jonas','sim')\n",
    "                           ,('Caique','sim'),('Emit','sim'),('João','sim'),('Roy','sim'),( 'Hallie','sim')])\n",
    "Tabela_suicidio = spark.createDataFrame(suicidio,['NAME','Suicidio'])\n",
    "Tabela_suicidio.show()"
   ]
  },
  {
   "cell_type": "markdown",
   "metadata": {},
   "source": [
    "### Agora será realizado a junção dos usuários (vertices) da rede social com a pequena base de vítimas de suicídio, trazendo as linhas onde coincidiu o nome da vítima com o usuário da rede social."
   ]
  },
  {
   "cell_type": "code",
   "execution_count": 137,
   "metadata": {},
   "outputs": [
    {
     "name": "stdout",
     "output_type": "stream",
     "text": [
      "+----+------+------+--------+\n",
      "|  id|  NAME|  NAME|Suicidio|\n",
      "+----+------+------+--------+\n",
      "|2904|  Linn|  Linn|     sim|\n",
      "|2015|Albert|Albert|     sim|\n",
      "|5015|Albert|Albert|     sim|\n",
      "|1015|Albert|Albert|     sim|\n",
      "|6015|Albert|Albert|     sim|\n",
      "|4015|Albert|Albert|     sim|\n",
      "|  15|Albert|Albert|     sim|\n",
      "|3015|Albert|Albert|     sim|\n",
      "| 829|  Cato|  Cato|     sim|\n",
      "|6398| Jonas| Jonas|     sim|\n",
      "|5369| Jonas| Jonas|     sim|\n",
      "| 322| Jonas| Jonas|     sim|\n",
      "|4294| Jonas| Jonas|     sim|\n",
      "|1326| Jonas| Jonas|     sim|\n",
      "|3361| Jonas| Jonas|     sim|\n",
      "|2348| Jonas| Jonas|     sim|\n",
      "|1910|  Emit|  Emit|     sim|\n",
      "|4894|  Emit|  Emit|     sim|\n",
      "|  36|   Roy|   Roy|     sim|\n",
      "|4025|   Roy|   Roy|     sim|\n",
      "+----+------+------+--------+\n",
      "only showing top 20 rows\n",
      "\n"
     ]
    }
   ],
   "source": [
    "rede_suicidio = usuarios.join(Tabela_suicidio, usuarios.NAME == Tabela_suicidio.NAME)\n",
    "rede_suicidio.show()"
   ]
  },
  {
   "cell_type": "markdown",
   "metadata": {},
   "source": [
    "### A função find utiliza-se de modificadores para mapear a busca em Gráfos. Para exibir os usuários conectados a determinada pessoa vou utilizar a função find da seguinte forma:\n",
    "### (a) - [e] -> (b) , isso quer dizer que um vertice \"a\" deve estar ligado a aresta \"e\" a um outro vértice \"b\". Vamos fazer isso com o usuário Hallie que é quem mais tem conexões e também temos uma vítima de mesmo nome na lista de suicidas. \n",
    "\n"
   ]
  },
  {
   "cell_type": "code",
   "execution_count": 139,
   "metadata": {},
   "outputs": [
    {
     "name": "stdout",
     "output_type": "stream",
     "text": [
      "\n",
      "Total de usuários conectados a Hallie:  1933\n",
      "\n",
      "+----+-------+\n",
      "|  id|   NAME|\n",
      "+----+-------+\n",
      "|1572| Finley|\n",
      "|2069|Patrick|\n",
      "|2904|   Linn|\n",
      "|3210|Preston|\n",
      "|3606|Colonel|\n",
      "+----+-------+\n",
      "only showing top 5 rows\n",
      "\n"
     ]
    }
   ],
   "source": [
    "def usuarios_conectados(rede, usuarios):\n",
    "    '''\n",
    "    Retorna os usuarios conectados\n",
    "    '''\n",
    "    return rede.find(\"(a)-[e]->(b)\").filter(\"b.id = %d\" % usuarios).select(\"a.id\", \"a.NAME\")\n",
    "\n",
    "l_usuarios = usuarios_conectados(rede,  859)\n",
    "\n",
    "print('')\n",
    "print(\"Total de usuários conectados a Hallie: \", l_usuarios.count())\n",
    "print('')\n",
    "l_usuarios.show(5)"
   ]
  },
  {
   "cell_type": "markdown",
   "metadata": {},
   "source": [
    "### Agora é possível fazer uma nova junção entre as conexões (amigos) de Hallie que teoricamente cometeu suicídio e a Tabela com as vítimas, com isso podemos verificar quais os amigos de Hallie tiveram a mesma atitude que ele e assim verificar algumas semelhanças em suas paginas da rede. Exemplo profissão, gosto pessoal, endereço .... "
   ]
  },
  {
   "cell_type": "code",
   "execution_count": 110,
   "metadata": {},
   "outputs": [
    {
     "name": "stdout",
     "output_type": "stream",
     "text": [
      "\n",
      "Os amigos de Hallie que também se suicidaram foram :  8\n",
      "\n",
      "+------+--------+----+------+\n",
      "|  NAME|Suicidio|  id|  NAME|\n",
      "+------+--------+----+------+\n",
      "|   Roy|     sim|6019|   Roy|\n",
      "|Albert|     sim|3015|Albert|\n",
      "|Albert|     sim|4015|Albert|\n",
      "|  Cato|     sim| 829|  Cato|\n",
      "| Jonas|     sim|2348| Jonas|\n",
      "|  Emit|     sim|4894|  Emit|\n",
      "|  Emit|     sim|1910|  Emit|\n",
      "|  Linn|     sim|2904|  Linn|\n",
      "+------+--------+----+------+\n",
      "\n"
     ]
    }
   ],
   "source": [
    "suicida = Tabela_suicidio.join(l_usuarios, Tabela_suicidio.NAME == l_usuarios.NAME)\n",
    "print('')\n",
    "print('Os amigos de Hallie que também se suicidaram foram : ', suicida.count())\n",
    "print('')\n",
    "suicida.show()"
   ]
  },
  {
   "cell_type": "markdown",
   "metadata": {},
   "source": [
    "### Vou utilizar os sub-grafos para criar um subgrupo que pode trazer usuários que tem conexões formadas entre dois usuários especificos. Então vamos trazer todos os usuários que tem conexões entre os dois de nossos usuários hipotéticos que cometeram suicídio.\n"
   ]
  },
  {
   "cell_type": "code",
   "execution_count": 17,
   "metadata": {},
   "outputs": [],
   "source": [
    "def subgrafo(rede, usuario1_id, usuario2_id):\n",
    "    '''\n",
    "   Retorna subgrafo entre os usuarios 1 e 2\n",
    "    '''\n",
    "    rede_user  = rede.find(\"(a)-[e]->(b); (c)-[e2]->(b)\").filter(\"a.id = {} and c.id = {}\".format(usuario1_id, usuario2_id))\n",
    "\n",
    "    rede_vert  = rede_user.select(\"a.id\", \"a.NAME\").unionAll(rede_user.select(\"b.id\", \"b.NAME\"))\\\n",
    "                .unionAll(rede_user.select(\"c.id\", \"c.NAME\")).distinct()\n",
    "\n",
    "    rede_edges = rede_user.select(\"e.src\", \"e.dst\").unionAll(rede_user.select(\"e2.src\", \"e2.dst\")).distinct()\n",
    "\n",
    "    rede_sub = GraphFrame(rede_vert, rede_edges)\n",
    "\n",
    "    return rede_sub"
   ]
  },
  {
   "cell_type": "code",
   "execution_count": 18,
   "metadata": {},
   "outputs": [],
   "source": [
    "usuario1_id = 6019 # Winnie\n",
    "usuario2_id = 4894 # Finley\n",
    "\n",
    "# SubGraph with Winnie connections between Finley\n",
    "rede_users = subgrafo(rede, usuario1_id, usuario2_id)"
   ]
  },
  {
   "cell_type": "code",
   "execution_count": 19,
   "metadata": {},
   "outputs": [
    {
     "name": "stdout",
     "output_type": "stream",
     "text": [
      "+----+---------+\n",
      "|  id|     NAME|\n",
      "+----+---------+\n",
      "|3805|Arlington|\n",
      "|5306|     Arch|\n",
      "|4415| Clarance|\n",
      "|2650|      Zeb|\n",
      "|5716|   Dalton|\n",
      "|6019|      Roy|\n",
      "|1490| Frederic|\n",
      "|4366|      Ned|\n",
      "|6306| Napoleon|\n",
      "|5736|    Lemon|\n",
      "|2557|    Giles|\n",
      "| 859|   Hallie|\n",
      "|4894|     Emit|\n",
      "|1347|    Berry|\n",
      "+----+---------+\n",
      "\n"
     ]
    }
   ],
   "source": [
    "rede_users.vertices.show(200)"
   ]
  }
 ],
 "metadata": {
  "kernelspec": {
   "display_name": "Python 3",
   "language": "python",
   "name": "python3"
  },
  "language_info": {
   "codemirror_mode": {
    "name": "ipython",
    "version": 3
   },
   "file_extension": ".py",
   "mimetype": "text/x-python",
   "name": "python",
   "nbconvert_exporter": "python",
   "pygments_lexer": "ipython3",
   "version": "3.7.3"
  }
 },
 "nbformat": 4,
 "nbformat_minor": 2
}
